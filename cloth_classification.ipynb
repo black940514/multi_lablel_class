{
 "cells": [
  {
   "cell_type": "code",
   "execution_count": 2,
   "metadata": {},
   "outputs": [],
   "source": [
    "import os\n",
    "import json"
   ]
  },
  {
   "cell_type": "code",
   "execution_count": 5,
   "metadata": {},
   "outputs": [
    {
     "data": {
      "text/plain": [
       "[{'filepath': 'green_shirt/915c509883a9b65d343fb7411c973f11d953bd04.jpg',\n",
       "  'filename': '915c509883a9b65d343fb7411c973f11d953bd04.jpg',\n",
       "  'classes': ['green', 'shirt']},\n",
       " {'filepath': 'green_shirt/d383c34ce5e29eaf0bdac25da27611f5980447ce.jpg',\n",
       "  'filename': 'd383c34ce5e29eaf0bdac25da27611f5980447ce.jpg',\n",
       "  'classes': ['green', 'shirt']},\n",
       " {'filepath': 'green_shirt/5a1247b420f67634602f86d586c6ec7c4fa47da5.jpg',\n",
       "  'filename': '5a1247b420f67634602f86d586c6ec7c4fa47da5.jpg',\n",
       "  'classes': ['green', 'shirt']}]"
      ]
     },
     "execution_count": 5,
     "metadata": {},
     "output_type": "execute_result"
    }
   ],
   "source": [
    "data_root = '/Users/taeyoun/Downloads/DeepLearning/project/Image_DL_Fastcampus/Part 1/Chapter 3. Multi Label Classification _ 두 개 이상의 선택지에서 여러 객체를 분류하는 분류 방법/실습 파일/Datasets/part1_chapter03_01'\n",
    "annotation_filename = 'annotations.json'\n",
    "\n",
    "with open(os.path.join(data_root, annotation_filename), 'r') as json_f:\n",
    "    annotations = json.load(json_f)\n",
    "\n",
    "annotations[:3]"
   ]
  },
  {
   "cell_type": "markdown",
   "metadata": {},
   "source": [
    "### Defalut dict 활용해서 클래서 맵 생성"
   ]
  },
  {
   "cell_type": "code",
   "execution_count": 8,
   "metadata": {},
   "outputs": [
    {
     "data": {
      "text/plain": [
       "defaultdict(int,\n",
       "            {'green': 1047,\n",
       "             'shirt': 1686,\n",
       "             'black': 3130,\n",
       "             'shoes': 3418,\n",
       "             'red': 1718,\n",
       "             'dress': 2570,\n",
       "             'white': 1812,\n",
       "             'shorts': 922,\n",
       "             'pants': 2789,\n",
       "             'blue': 2863,\n",
       "             'brown': 815})"
      ]
     },
     "execution_count": 8,
     "metadata": {},
     "output_type": "execute_result"
    }
   ],
   "source": [
    "from collections import defaultdict\n",
    " \n",
    "def get_class_map():\n",
    "    cls_map = defaultdict(int)\n",
    "    for annot in annotations:\n",
    "        for cls in annot['classes']:\n",
    "            cls_map[cls] += 1\n",
    "    return cls_map\n",
    "\n",
    "cls_map = get_class_map()\n",
    "cls_map"
   ]
  },
  {
   "cell_type": "code",
   "execution_count": 11,
   "metadata": {},
   "outputs": [
    {
     "name": "stdout",
     "output_type": "stream",
     "text": [
      "데이터 개수: 11385\n",
      "클래스 개수: 11\n",
      "클래스 이름: ['green', 'shirt', 'black', 'shoes', 'red', 'dress', 'white', 'shorts', 'pants', 'blue', 'brown']\n"
     ]
    }
   ],
   "source": [
    "print(f'데이터 개수: {len(annotations)}')\n",
    "print(f'클래스 개수: {len(cls_map)}')\n",
    "print(f'클래스 이름: {list(cls_map.keys())}')"
   ]
  },
  {
   "cell_type": "markdown",
   "metadata": {},
   "source": [
    "### 3000개 데이터 랜덤추출"
   ]
  },
  {
   "cell_type": "code",
   "execution_count": 14,
   "metadata": {},
   "outputs": [],
   "source": [
    "import random\n",
    "\n",
    "random.shuffle(annotations)\n",
    "annotations = annotations[:3000]"
   ]
  },
  {
   "cell_type": "code",
   "execution_count": 17,
   "metadata": {},
   "outputs": [],
   "source": [
    "import matplotlib.pyplot as plt\n",
    "\n",
    "def draw_images(images, classes):\n",
    "    fig, axs = plt.subplots(3, 4)\n",
    "    \n",
    "    for i, ax in enumerate(axs.flat):\n",
    "        ax.imshow(images[i]) \n",
    "        ax.set_title(classes[i]) \n",
    "\n",
    "    plt.tight_layout()\n",
    "    plt.show()"
   ]
  },
  {
   "cell_type": "code",
   "execution_count": null,
   "metadata": {},
   "outputs": [],
   "source": [
    "from PIL import Image\n",
    "import numpy as np\n",
    "import random\n",
    "\n",
    "random.shuffle(annotations)\n",
    "\n",
    "sample_images = [] \n",
    "sample_classes = [] \n",
    "sample_cnt = 0 \n",
    "max_cnt = 12\n",
    "\n",
    "for annot in annotations:\n",
    "    sample_classes.append(annot['classes'])\n",
    "    image_path = os.path.join(data_root, annot['filepath'])\n",
    "    image = Image.open(image_path).convert('RGB')\n",
    "    sample_images.append(np.array(image))\n",
    "    sample_cnt += 1\n",
    "    if sample_cnt == max_cnt:\n",
    "        break\n",
    "\n",
    "## 전체 데이터 샘플을 시각화 한다.\n",
    "draw_images(sample_images, sample_classes)"
   ]
  }
 ],
 "metadata": {
  "kernelspec": {
   "display_name": "multilabel1204",
   "language": "python",
   "name": "python3"
  },
  "language_info": {
   "codemirror_mode": {
    "name": "ipython",
    "version": 3
   },
   "file_extension": ".py",
   "mimetype": "text/x-python",
   "name": "python",
   "nbconvert_exporter": "python",
   "pygments_lexer": "ipython3",
   "version": "3.12.7"
  }
 },
 "nbformat": 4,
 "nbformat_minor": 2
}
